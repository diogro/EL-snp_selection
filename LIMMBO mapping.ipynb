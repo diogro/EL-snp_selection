{
 "cells": [
  {
   "cell_type": "code",
   "execution_count": 27,
   "metadata": {
    "scrolled": true
   },
   "outputs": [],
   "source": [
    "from pkg_resources import resource_filename\n",
    "from limmbo.io.reader import ReadData\n",
    "from limmbo.io.utils import file_type\n",
    "\n",
    "import numpy as np\n",
    "\n",
    "# data container\n",
    "data = ReadData(verbose=False)\n",
    "\n",
    "# Read covariates\n",
    "file_covs = \"./data/limmbo/limmbo_covariates.csv\"\n",
    "data.getCovariates(file_covariates=file_covs)\n",
    "\n",
    "# Read genotypes in delim-format\n",
    "file_geno =  './data/plink_files/atchely_imputed'\n",
    "data.getGenotypes(file_genotypes=file_geno)\n",
    "data.genotypes\n",
    "\n",
    "# Read phenotypes\n",
    "file_pheno = './data/limmbo/limmbo_phenotypes.csv'\n",
    "data.getPhenotypes(file_pheno=file_pheno)\n",
    "data.phenotypes\n",
    "\n",
    "# Read relatedness\n",
    "file_relatedness = './data/limmbo/limmbo_relatedness.csv'\n",
    "data.getRelatedness(file_relatedness=file_relatedness)"
   ]
  },
  {
   "cell_type": "code",
   "execution_count": 20,
   "metadata": {},
   "outputs": [],
   "source": [
    "from limmbo.io import input\n",
    "\n",
    "indata = input.InputData(verbose=False)\n",
    "indata.addGenotypes(genotypes=data.genotypes,\n",
    "                    genotypes_info=data.genotypes_info)\n",
    "\n",
    "indata = input.InputData(verbose=False)\n",
    "indata.addGenotypes(genotypes=data.genotypes,\n",
    "                    genotypes_info=data.genotypes_info,\n",
    "                    geno_samples=data.geno_samples)\n",
    "indata.addPhenotypes(phenotypes = data.phenotypes, \n",
    "                     pheno_samples = data.pheno_samples,\n",
    "                     phenotype_ID = data.phenotype_ID)\n",
    "indata.addRelatedness(relatedness = data.relatedness)\n",
    "indata.addCovariates(covariates = data.covariates,\n",
    "                     covs_samples = data.covs_samples)"
   ]
  },
  {
   "cell_type": "code",
   "execution_count": 21,
   "metadata": {},
   "outputs": [
    {
     "data": {
      "text/plain": [
       "array([[162.58949648,  23.87759381],\n",
       "       [ 23.87759381,   4.86702787]])"
      ]
     },
     "execution_count": 21,
     "metadata": {},
     "output_type": "execute_result"
    }
   ],
   "source": [
    "from limmbo.core.vdsimple import vd_reml\n",
    "\n",
    "Cg, Cn, ptime = vd_reml(indata, verbose=False)\n",
    "indata.addVarianceComponents(Cg = Cg, Cn = Cn)\n",
    "Cg\n"
   ]
  },
  {
   "cell_type": "code",
   "execution_count": 22,
   "metadata": {},
   "outputs": [
    {
     "data": {
      "text/plain": [
       "23.56776102459051"
      ]
     },
     "execution_count": 22,
     "metadata": {},
     "output_type": "execute_result"
    }
   ],
   "source": [
    "np.var(data.phenotypes['Final_weight'])"
   ]
  },
  {
   "cell_type": "code",
   "execution_count": 24,
   "metadata": {},
   "outputs": [],
   "source": [
    "indata.regress()\n",
    "indata.transform(transform=\"scale\")"
   ]
  },
  {
   "cell_type": "code",
   "execution_count": 25,
   "metadata": {},
   "outputs": [],
   "source": [
    "from limmbo.core.gwas import GWAS\n",
    "\n",
    "gwas = GWAS(datainput=indata, verbose=False)\n",
    "gwas.name = \"test\""
   ]
  },
  {
   "cell_type": "code",
   "execution_count": 26,
   "metadata": {},
   "outputs": [
    {
     "ename": "RuntimeError",
     "evalue": "LIMIX error: dimensions in background model inconsistent",
     "output_type": "error",
     "traceback": [
      "\u001b[0;31m---------------------------------------------------------------------------\u001b[0m",
      "\u001b[0;31mRuntimeError\u001b[0m                              Traceback (most recent call last)",
      "\u001b[0;32m<ipython-input-26-22596b011515>\u001b[0m in \u001b[0;36m<module>\u001b[0;34m()\u001b[0m\n\u001b[0;32m----> 1\u001b[0;31m \u001b[0mresultsAssociation\u001b[0m \u001b[0;34m=\u001b[0m \u001b[0mgwas\u001b[0m\u001b[0;34m.\u001b[0m\u001b[0mrunAssociationAnalysis\u001b[0m\u001b[0;34m(\u001b[0m\u001b[0msetup\u001b[0m\u001b[0;34m=\u001b[0m\u001b[0;34m\"lmm\"\u001b[0m\u001b[0;34m,\u001b[0m \u001b[0mmode\u001b[0m\u001b[0;34m=\u001b[0m\u001b[0;34m\"multitrait\"\u001b[0m\u001b[0;34m)\u001b[0m\u001b[0;34m\u001b[0m\u001b[0m\n\u001b[0m",
      "\u001b[0;32m/home/diogro/bin/anaconda3/envs/limmbo/lib/python2.7/site-packages/limmbo/core/gwas.pyc\u001b[0m in \u001b[0;36mrunAssociationAnalysis\u001b[0;34m(self, mode, setup, adjustSingleTrait)\u001b[0m\n\u001b[1;32m    201\u001b[0m         \u001b[0;32mif\u001b[0m \u001b[0mmode\u001b[0m \u001b[0;34m==\u001b[0m \u001b[0;34m\"multitrait\"\u001b[0m\u001b[0;34m:\u001b[0m\u001b[0;34m\u001b[0m\u001b[0m\n\u001b[1;32m    202\u001b[0m             associationResults = self.__multiTraitAssociation_anyeffect(\n\u001b[0;32m--> 203\u001b[0;31m                 genotypes=self.genotypes)\n\u001b[0m\u001b[1;32m    204\u001b[0m \u001b[0;34m\u001b[0m\u001b[0m\n\u001b[1;32m    205\u001b[0m         \u001b[0;32mif\u001b[0m \u001b[0mmode\u001b[0m \u001b[0;34m==\u001b[0m \u001b[0;34m\"singletrait\"\u001b[0m\u001b[0;34m:\u001b[0m\u001b[0;34m\u001b[0m\u001b[0m\n",
      "\u001b[0;32m/home/diogro/bin/anaconda3/envs/limmbo/lib/python2.7/site-packages/limmbo/core/gwas.pyc\u001b[0m in \u001b[0;36m__multiTraitAssociation_anyeffect\u001b[0;34m(self, genotypes, empiricalP, computeFDR)\u001b[0m\n\u001b[1;32m    279\u001b[0m                                                  \u001b[0mcovs\u001b[0m\u001b[0;34m=\u001b[0m\u001b[0mself\u001b[0m\u001b[0;34m.\u001b[0m\u001b[0mcovariates\u001b[0m\u001b[0;34m,\u001b[0m \u001b[0mK1r\u001b[0m\u001b[0;34m=\u001b[0m\u001b[0mK1r\u001b[0m\u001b[0;34m,\u001b[0m\u001b[0;34m\u001b[0m\u001b[0m\n\u001b[1;32m    280\u001b[0m                                                  \u001b[0mK1c\u001b[0m\u001b[0;34m=\u001b[0m\u001b[0mK1c\u001b[0m\u001b[0;34m,\u001b[0m \u001b[0mK2c\u001b[0m\u001b[0;34m=\u001b[0m\u001b[0mK2c\u001b[0m\u001b[0;34m,\u001b[0m\u001b[0;34m\u001b[0m\u001b[0m\n\u001b[0;32m--> 281\u001b[0;31m                                                  searchDelta=self.searchDelta)\n\u001b[0m\u001b[1;32m    282\u001b[0m \u001b[0;34m\u001b[0m\u001b[0m\n\u001b[1;32m    283\u001b[0m         \u001b[0;32mif\u001b[0m \u001b[0;32mnot\u001b[0m \u001b[0mempiricalP\u001b[0m \u001b[0;32mand\u001b[0m \u001b[0;32mnot\u001b[0m \u001b[0mcomputeFDR\u001b[0m\u001b[0;34m:\u001b[0m\u001b[0;34m\u001b[0m\u001b[0m\n",
      "\u001b[0;32m/home/diogro/bin/anaconda3/envs/limmbo/lib/python2.7/site-packages/limix/qtl/qtl.pyc\u001b[0m in \u001b[0;36mqtl_test_lmm_kronecker\u001b[0;34m(snps, phenos, covs, Acovs, Asnps, K1r, K1c, K2r, K2c, NumIntervalsDelta0, NumIntervalsDeltaAlt, searchDelta)\u001b[0m\n\u001b[1;32m    365\u001b[0m         \u001b[0;31m# add SNP design\u001b[0m\u001b[0;34m\u001b[0m\u001b[0;34m\u001b[0m\u001b[0m\n\u001b[1;32m    366\u001b[0m         \u001b[0mlmm\u001b[0m\u001b[0;34m.\u001b[0m\u001b[0msetSNPcoldesign\u001b[0m\u001b[0;34m(\u001b[0m\u001b[0mAsnps\u001b[0m\u001b[0;34m[\u001b[0m\u001b[0miA\u001b[0m\u001b[0;34m]\u001b[0m\u001b[0;34m)\u001b[0m\u001b[0;34m\u001b[0m\u001b[0m\n\u001b[0;32m--> 367\u001b[0;31m         \u001b[0mlmm\u001b[0m\u001b[0;34m.\u001b[0m\u001b[0mprocess\u001b[0m\u001b[0;34m(\u001b[0m\u001b[0;34m)\u001b[0m\u001b[0;34m\u001b[0m\u001b[0m\n\u001b[0m\u001b[1;32m    368\u001b[0m         \u001b[0mpv\u001b[0m\u001b[0;34m[\u001b[0m\u001b[0miA\u001b[0m\u001b[0;34m,\u001b[0m \u001b[0;34m:\u001b[0m\u001b[0;34m]\u001b[0m \u001b[0;34m=\u001b[0m \u001b[0mlmm\u001b[0m\u001b[0;34m.\u001b[0m\u001b[0mgetPv\u001b[0m\u001b[0;34m(\u001b[0m\u001b[0;34m)\u001b[0m\u001b[0;34m[\u001b[0m\u001b[0;36m0\u001b[0m\u001b[0;34m]\u001b[0m\u001b[0;34m\u001b[0m\u001b[0m\n\u001b[1;32m    369\u001b[0m     \u001b[0;32mreturn\u001b[0m \u001b[0mlmm\u001b[0m\u001b[0;34m,\u001b[0m \u001b[0mpv\u001b[0m\u001b[0;34m\u001b[0m\u001b[0m\n",
      "\u001b[0;32m/home/diogro/bin/anaconda3/envs/limmbo/lib/python2.7/site-packages/limix_legacy/deprecated/core.pyc\u001b[0m in \u001b[0;36mprocess\u001b[0;34m(self)\u001b[0m\n\u001b[1;32m  12046\u001b[0m \u001b[0;34m\u001b[0m\u001b[0m\n\u001b[1;32m  12047\u001b[0m         \"\"\"\n\u001b[0;32m> 12048\u001b[0;31m         \u001b[0;32mreturn\u001b[0m \u001b[0m_core\u001b[0m\u001b[0;34m.\u001b[0m\u001b[0mCKroneckerLMM_process\u001b[0m\u001b[0;34m(\u001b[0m\u001b[0mself\u001b[0m\u001b[0;34m)\u001b[0m\u001b[0;34m\u001b[0m\u001b[0m\n\u001b[0m\u001b[1;32m  12049\u001b[0m \u001b[0;34m\u001b[0m\u001b[0m\n\u001b[1;32m  12050\u001b[0m \u001b[0;34m\u001b[0m\u001b[0m\n",
      "\u001b[0;31mRuntimeError\u001b[0m: LIMIX error: dimensions in background model inconsistent"
     ]
    }
   ],
   "source": [
    "resultsAssociation = gwas.runAssociationAnalysis(setup=\"lmm\", mode=\"multitrait\")"
   ]
  },
  {
   "cell_type": "code",
   "execution_count": 118,
   "metadata": {},
   "outputs": [
    {
     "data": {
      "text/plain": [
       "(0.9926760802230591,\n",
       " array([9.78043793e-33, 9.78043793e-33, 9.78043793e-33, ...,\n",
       "        1.00000000e+00, 1.00000000e+00, 1.00000000e+00]))"
      ]
     },
     "execution_count": 118,
     "metadata": {},
     "output_type": "execute_result"
    }
   ],
   "source": [
    "gwas.computeFDR(0.05)"
   ]
  }
 ],
 "metadata": {
  "kernelspec": {
   "display_name": "Python 2",
   "language": "python",
   "name": "python2"
  },
  "language_info": {
   "codemirror_mode": {
    "name": "ipython",
    "version": 2
   },
   "file_extension": ".py",
   "mimetype": "text/x-python",
   "name": "python",
   "nbconvert_exporter": "python",
   "pygments_lexer": "ipython2",
   "version": "2.7.14"
  }
 },
 "nbformat": 4,
 "nbformat_minor": 2
}
