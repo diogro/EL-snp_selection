{
 "cells": [
  {
   "cell_type": "code",
   "execution_count": 132,
   "metadata": {
    "scrolled": true
   },
   "outputs": [],
   "source": [
    "from pkg_resources import resource_filename\n",
    "from limmbo.io.reader import ReadData\n",
    "from limmbo.io.utils import file_type\n",
    "\n",
    "# data container\n",
    "data = ReadData(verbose=False)\n",
    "\n",
    "# Read covariates\n",
    "file_covs = \"./data/limmbo_covariates.csv\"\n",
    "data.getCovariates(file_covariates=file_covs)\n",
    "\n",
    "# Read genotypes in delim-format\n",
    "file_geno =  './data/limmbo_mean_genotype.csv'\n",
    "data.getGenotypes(file_genotypes=file_geno)\n",
    "data.genotypes\n",
    "\n",
    "# Read phenotypes\n",
    "file_pheno = './data/limmbo_phenotypes.csv'\n",
    "data.getPhenotypes(file_pheno=file_pheno)\n",
    "data.phenotypes\n",
    "\n",
    "# Read relatedness\n",
    "file_relatedness = './data/limmbo_relatedness.csv'\n",
    "data.getRelatedness(file_relatedness=file_relatedness)"
   ]
  },
  {
   "cell_type": "code",
   "execution_count": 133,
   "metadata": {},
   "outputs": [],
   "source": [
    "indata = input.InputData(verbose=False)\n",
    "indata.addGenotypes(genotypes=data.genotypes,\n",
    "                    genotypes_info=data.genotypes_info)\n",
    "\n",
    "indata = input.InputData(verbose=False)\n",
    "indata.addGenotypes(genotypes=data.genotypes,\n",
    "                    genotypes_info=data.genotypes_info,\n",
    "                    geno_samples=data.geno_samples)\n",
    "indata.addPhenotypes(phenotypes = data.phenotypes, \n",
    "                     pheno_samples = data.pheno_samples,\n",
    "                     phenotype_ID = data.phenotype_ID)\n",
    "indata.addRelatedness(relatedness = data.relatedness)\n",
    "indata.addCovariates(covariates = data.covariates,\n",
    "                     covs_samples = data.covs_samples)"
   ]
  },
  {
   "cell_type": "code",
   "execution_count": 136,
   "metadata": {},
   "outputs": [
    {
     "data": {
      "text/plain": [
       "array([[47.854678  ,  5.09103324],\n",
       "       [ 5.09103324,  1.52164347]])"
      ]
     },
     "execution_count": 136,
     "metadata": {},
     "output_type": "execute_result"
    }
   ],
   "source": [
    "from limmbo.core.vdsimple import vd_reml\n",
    "\n",
    "Cg, Cn, ptime = vd_reml(datainput, verbose=False)\n",
    "#indata.addVarianceComponents(Cg = Cg, Cn = Cn)\n",
    "Cg\n"
   ]
  },
  {
   "cell_type": "code",
   "execution_count": 154,
   "metadata": {},
   "outputs": [
    {
     "data": {
      "text/plain": [
       "23.586001064168116"
      ]
     },
     "execution_count": 154,
     "metadata": {},
     "output_type": "execute_result"
    }
   ],
   "source": [
    "numpy.var(data.phenotypes['Final_weight'])"
   ]
  },
  {
   "cell_type": "code",
   "execution_count": 137,
   "metadata": {},
   "outputs": [],
   "source": [
    "indata.commonSamples()\n",
    "indata.regress()\n",
    "indata.transform(transform=\"scale\")"
   ]
  },
  {
   "cell_type": "code",
   "execution_count": 113,
   "metadata": {},
   "outputs": [],
   "source": [
    "from limmbo.core.gwas import GWAS\n",
    "\n",
    "gwas = GWAS(datainput=indata, verbose=False)\n",
    "gwas.name = \"test\""
   ]
  },
  {
   "cell_type": "code",
   "execution_count": 114,
   "metadata": {},
   "outputs": [],
   "source": [
    "resultsAssociation = gwas.runAssociationAnalysis(setup=\"lmm\", mode=\"multitrait\")"
   ]
  },
  {
   "cell_type": "code",
   "execution_count": 118,
   "metadata": {},
   "outputs": [
    {
     "data": {
      "text/plain": [
       "(0.9926760802230591,\n",
       " array([9.78043793e-33, 9.78043793e-33, 9.78043793e-33, ...,\n",
       "        1.00000000e+00, 1.00000000e+00, 1.00000000e+00]))"
      ]
     },
     "execution_count": 118,
     "metadata": {},
     "output_type": "execute_result"
    }
   ],
   "source": [
    "gwas.computeFDR(0.05)"
   ]
  }
 ],
 "metadata": {
  "kernelspec": {
   "display_name": "Python 2",
   "language": "python",
   "name": "python2"
  },
  "language_info": {
   "codemirror_mode": {
    "name": "ipython",
    "version": 2
   },
   "file_extension": ".py",
   "mimetype": "text/x-python",
   "name": "python",
   "nbconvert_exporter": "python",
   "pygments_lexer": "ipython2",
   "version": "2.7.14"
  }
 },
 "nbformat": 4,
 "nbformat_minor": 2
}
